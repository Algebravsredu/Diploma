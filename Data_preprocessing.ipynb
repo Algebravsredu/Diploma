{
  "cells": [
    {
      "cell_type": "markdown",
      "metadata": {
        "id": "UZVxnyQBN-6G"
      },
      "source": [
        "**Подключение к базе данных, создание датафрейма**"
      ]
    },
    {
      "cell_type": "code",
      "execution_count": null,
      "metadata": {
        "id": "W5EaSwPCedGv"
      },
      "outputs": [],
      "source": [
        "import psycopg2\n",
        "from psycopg2 import OperationalError\n",
        "import pandas as pd\n",
        "import numpy as np"
      ]
    },
    {
      "cell_type": "markdown",
      "source": [
        "Этот кусок кода был вырезан, так как содержит конфиденциальную информацию компании. Было произведено подключение к базе данных для извлечения необходимой информации."
      ],
      "metadata": {
        "id": "PxlLvmPwX5dK"
      }
    },
    {
      "cell_type": "code",
      "execution_count": null,
      "metadata": {
        "id": "y-2AIVfJeujV"
      },
      "outputs": [],
      "source": [
        "df = pd.DataFrame(data, columns = ['work_place_id', 'amount', 'check_sum', 'execution_time', 'region', 'subject_of_the_federation', 'price_segment', 'values'])"
      ]
    },
    {
      "cell_type": "markdown",
      "metadata": {
        "id": "1YeVAfZGOPuq"
      },
      "source": [
        "**Приведение чаевых к стандартному виду, очистка данных от nan**"
      ]
    },
    {
      "cell_type": "code",
      "execution_count": null,
      "metadata": {
        "id": "ALB5lcdDewxg"
      },
      "outputs": [],
      "source": [
        "df. amount = df.amount // 100 #так как размер чаевых был указан в копейках"
      ]
    },
    {
      "cell_type": "code",
      "execution_count": null,
      "metadata": {
        "id": "SZD6rNnqezrL"
      },
      "outputs": [],
      "source": [
        "df = df.dropna().reset_index(drop=True)"
      ]
    },
    {
      "cell_type": "code",
      "execution_count": null,
      "metadata": {
        "colab": {
          "base_uri": "https://localhost:8080/",
          "height": 731
        },
        "id": "gc5c9pzHMWh-",
        "outputId": "61cd6c92-728f-4a1b-9b66-4fabec7b0c3d"
      },
      "outputs": [
        {
          "output_type": "execute_result",
          "data": {
            "text/plain": [
              "         work_place_id  amount  check_sum          execution_time   region  \\\n",
              "0                  141   576.0     4800.0 2022-09-26 19:06:09.345   Москва   \n",
              "1                  141   345.0     2300.0 2022-10-27 18:35:34.679   Москва   \n",
              "2                  141   388.0     1940.0 2022-10-29 11:25:56.241   Москва   \n",
              "3                  141  1065.0     8870.0 2022-09-10 07:56:08.632   Москва   \n",
              "4                  141   258.0     1720.0 2022-09-10 14:56:56.942   Москва   \n",
              "...                ...     ...        ...                     ...      ...   \n",
              "6105056        3103511   150.0     1100.0 2022-11-22 08:31:51.285   Москва   \n",
              "6105057        3103511     1.0     1890.0 2022-11-22 14:43:18.563   Москва   \n",
              "6105058        3104079   100.0     1735.0 2022-11-21 15:58:32.914  Регионы   \n",
              "6105059        3104079   100.0     1224.0 2022-11-21 17:18:04.659  Регионы   \n",
              "6105060        3104079   221.0     2209.0 2022-11-22 17:48:15.843  Регионы   \n",
              "\n",
              "        subject_of_the_federation            price_segment  \\\n",
              "0                          Москва  Высокий (>1500 - <2500)   \n",
              "1                          Москва  Высокий (>1500 - <2500)   \n",
              "2                          Москва  Высокий (>1500 - <2500)   \n",
              "3                          Москва  Высокий (>1500 - <2500)   \n",
              "4                          Москва  Высокий (>1500 - <2500)   \n",
              "...                           ...                      ...   \n",
              "6105056        Московская область   Средний (>500 - <1500)   \n",
              "6105057        Московская область   Средний (>500 - <1500)   \n",
              "6105058       Республика Калмыкия   Средний (>500 - <1500)   \n",
              "6105059       Республика Калмыкия   Средний (>500 - <1500)   \n",
              "6105060       Республика Калмыкия   Средний (>500 - <1500)   \n",
              "\n",
              "                       values  \n",
              "0             [9, 12, 15, 19]  \n",
              "1            [10, 15, 20, 25]  \n",
              "2            [10, 15, 20, 25]  \n",
              "3             [8, 12, 15, 18]  \n",
              "4             [7, 10, 15, 20]  \n",
              "...                       ...  \n",
              "6105056  [100, 150, 200, 250]  \n",
              "6105057      [10, 15, 20, 25]  \n",
              "6105058      [10, 15, 20, 25]  \n",
              "6105059  [100, 150, 200, 250]  \n",
              "6105060      [10, 15, 20, 25]  \n",
              "\n",
              "[6105061 rows x 8 columns]"
            ],
            "text/html": [
              "\n",
              "  <div id=\"df-f4cc15a7-bc2c-4c83-b546-ee5b165f6d53\">\n",
              "    <div class=\"colab-df-container\">\n",
              "      <div>\n",
              "<style scoped>\n",
              "    .dataframe tbody tr th:only-of-type {\n",
              "        vertical-align: middle;\n",
              "    }\n",
              "\n",
              "    .dataframe tbody tr th {\n",
              "        vertical-align: top;\n",
              "    }\n",
              "\n",
              "    .dataframe thead th {\n",
              "        text-align: right;\n",
              "    }\n",
              "</style>\n",
              "<table border=\"1\" class=\"dataframe\">\n",
              "  <thead>\n",
              "    <tr style=\"text-align: right;\">\n",
              "      <th></th>\n",
              "      <th>work_place_id</th>\n",
              "      <th>amount</th>\n",
              "      <th>check_sum</th>\n",
              "      <th>execution_time</th>\n",
              "      <th>region</th>\n",
              "      <th>subject_of_the_federation</th>\n",
              "      <th>price_segment</th>\n",
              "      <th>values</th>\n",
              "    </tr>\n",
              "  </thead>\n",
              "  <tbody>\n",
              "    <tr>\n",
              "      <th>0</th>\n",
              "      <td>141</td>\n",
              "      <td>576.0</td>\n",
              "      <td>4800.0</td>\n",
              "      <td>2022-09-26 19:06:09.345</td>\n",
              "      <td>Москва</td>\n",
              "      <td>Москва</td>\n",
              "      <td>Высокий (&gt;1500 - &lt;2500)</td>\n",
              "      <td>[9, 12, 15, 19]</td>\n",
              "    </tr>\n",
              "    <tr>\n",
              "      <th>1</th>\n",
              "      <td>141</td>\n",
              "      <td>345.0</td>\n",
              "      <td>2300.0</td>\n",
              "      <td>2022-10-27 18:35:34.679</td>\n",
              "      <td>Москва</td>\n",
              "      <td>Москва</td>\n",
              "      <td>Высокий (&gt;1500 - &lt;2500)</td>\n",
              "      <td>[10, 15, 20, 25]</td>\n",
              "    </tr>\n",
              "    <tr>\n",
              "      <th>2</th>\n",
              "      <td>141</td>\n",
              "      <td>388.0</td>\n",
              "      <td>1940.0</td>\n",
              "      <td>2022-10-29 11:25:56.241</td>\n",
              "      <td>Москва</td>\n",
              "      <td>Москва</td>\n",
              "      <td>Высокий (&gt;1500 - &lt;2500)</td>\n",
              "      <td>[10, 15, 20, 25]</td>\n",
              "    </tr>\n",
              "    <tr>\n",
              "      <th>3</th>\n",
              "      <td>141</td>\n",
              "      <td>1065.0</td>\n",
              "      <td>8870.0</td>\n",
              "      <td>2022-09-10 07:56:08.632</td>\n",
              "      <td>Москва</td>\n",
              "      <td>Москва</td>\n",
              "      <td>Высокий (&gt;1500 - &lt;2500)</td>\n",
              "      <td>[8, 12, 15, 18]</td>\n",
              "    </tr>\n",
              "    <tr>\n",
              "      <th>4</th>\n",
              "      <td>141</td>\n",
              "      <td>258.0</td>\n",
              "      <td>1720.0</td>\n",
              "      <td>2022-09-10 14:56:56.942</td>\n",
              "      <td>Москва</td>\n",
              "      <td>Москва</td>\n",
              "      <td>Высокий (&gt;1500 - &lt;2500)</td>\n",
              "      <td>[7, 10, 15, 20]</td>\n",
              "    </tr>\n",
              "    <tr>\n",
              "      <th>...</th>\n",
              "      <td>...</td>\n",
              "      <td>...</td>\n",
              "      <td>...</td>\n",
              "      <td>...</td>\n",
              "      <td>...</td>\n",
              "      <td>...</td>\n",
              "      <td>...</td>\n",
              "      <td>...</td>\n",
              "    </tr>\n",
              "    <tr>\n",
              "      <th>6105056</th>\n",
              "      <td>3103511</td>\n",
              "      <td>150.0</td>\n",
              "      <td>1100.0</td>\n",
              "      <td>2022-11-22 08:31:51.285</td>\n",
              "      <td>Москва</td>\n",
              "      <td>Московская область</td>\n",
              "      <td>Средний (&gt;500 - &lt;1500)</td>\n",
              "      <td>[100, 150, 200, 250]</td>\n",
              "    </tr>\n",
              "    <tr>\n",
              "      <th>6105057</th>\n",
              "      <td>3103511</td>\n",
              "      <td>1.0</td>\n",
              "      <td>1890.0</td>\n",
              "      <td>2022-11-22 14:43:18.563</td>\n",
              "      <td>Москва</td>\n",
              "      <td>Московская область</td>\n",
              "      <td>Средний (&gt;500 - &lt;1500)</td>\n",
              "      <td>[10, 15, 20, 25]</td>\n",
              "    </tr>\n",
              "    <tr>\n",
              "      <th>6105058</th>\n",
              "      <td>3104079</td>\n",
              "      <td>100.0</td>\n",
              "      <td>1735.0</td>\n",
              "      <td>2022-11-21 15:58:32.914</td>\n",
              "      <td>Регионы</td>\n",
              "      <td>Республика Калмыкия</td>\n",
              "      <td>Средний (&gt;500 - &lt;1500)</td>\n",
              "      <td>[10, 15, 20, 25]</td>\n",
              "    </tr>\n",
              "    <tr>\n",
              "      <th>6105059</th>\n",
              "      <td>3104079</td>\n",
              "      <td>100.0</td>\n",
              "      <td>1224.0</td>\n",
              "      <td>2022-11-21 17:18:04.659</td>\n",
              "      <td>Регионы</td>\n",
              "      <td>Республика Калмыкия</td>\n",
              "      <td>Средний (&gt;500 - &lt;1500)</td>\n",
              "      <td>[100, 150, 200, 250]</td>\n",
              "    </tr>\n",
              "    <tr>\n",
              "      <th>6105060</th>\n",
              "      <td>3104079</td>\n",
              "      <td>221.0</td>\n",
              "      <td>2209.0</td>\n",
              "      <td>2022-11-22 17:48:15.843</td>\n",
              "      <td>Регионы</td>\n",
              "      <td>Республика Калмыкия</td>\n",
              "      <td>Средний (&gt;500 - &lt;1500)</td>\n",
              "      <td>[10, 15, 20, 25]</td>\n",
              "    </tr>\n",
              "  </tbody>\n",
              "</table>\n",
              "<p>6105061 rows × 8 columns</p>\n",
              "</div>\n",
              "      <button class=\"colab-df-convert\" onclick=\"convertToInteractive('df-f4cc15a7-bc2c-4c83-b546-ee5b165f6d53')\"\n",
              "              title=\"Convert this dataframe to an interactive table.\"\n",
              "              style=\"display:none;\">\n",
              "        \n",
              "  <svg xmlns=\"http://www.w3.org/2000/svg\" height=\"24px\"viewBox=\"0 0 24 24\"\n",
              "       width=\"24px\">\n",
              "    <path d=\"M0 0h24v24H0V0z\" fill=\"none\"/>\n",
              "    <path d=\"M18.56 5.44l.94 2.06.94-2.06 2.06-.94-2.06-.94-.94-2.06-.94 2.06-2.06.94zm-11 1L8.5 8.5l.94-2.06 2.06-.94-2.06-.94L8.5 2.5l-.94 2.06-2.06.94zm10 10l.94 2.06.94-2.06 2.06-.94-2.06-.94-.94-2.06-.94 2.06-2.06.94z\"/><path d=\"M17.41 7.96l-1.37-1.37c-.4-.4-.92-.59-1.43-.59-.52 0-1.04.2-1.43.59L10.3 9.45l-7.72 7.72c-.78.78-.78 2.05 0 2.83L4 21.41c.39.39.9.59 1.41.59.51 0 1.02-.2 1.41-.59l7.78-7.78 2.81-2.81c.8-.78.8-2.07 0-2.86zM5.41 20L4 18.59l7.72-7.72 1.47 1.35L5.41 20z\"/>\n",
              "  </svg>\n",
              "      </button>\n",
              "      \n",
              "  <style>\n",
              "    .colab-df-container {\n",
              "      display:flex;\n",
              "      flex-wrap:wrap;\n",
              "      gap: 12px;\n",
              "    }\n",
              "\n",
              "    .colab-df-convert {\n",
              "      background-color: #E8F0FE;\n",
              "      border: none;\n",
              "      border-radius: 50%;\n",
              "      cursor: pointer;\n",
              "      display: none;\n",
              "      fill: #1967D2;\n",
              "      height: 32px;\n",
              "      padding: 0 0 0 0;\n",
              "      width: 32px;\n",
              "    }\n",
              "\n",
              "    .colab-df-convert:hover {\n",
              "      background-color: #E2EBFA;\n",
              "      box-shadow: 0px 1px 2px rgba(60, 64, 67, 0.3), 0px 1px 3px 1px rgba(60, 64, 67, 0.15);\n",
              "      fill: #174EA6;\n",
              "    }\n",
              "\n",
              "    [theme=dark] .colab-df-convert {\n",
              "      background-color: #3B4455;\n",
              "      fill: #D2E3FC;\n",
              "    }\n",
              "\n",
              "    [theme=dark] .colab-df-convert:hover {\n",
              "      background-color: #434B5C;\n",
              "      box-shadow: 0px 1px 3px 1px rgba(0, 0, 0, 0.15);\n",
              "      filter: drop-shadow(0px 1px 2px rgba(0, 0, 0, 0.3));\n",
              "      fill: #FFFFFF;\n",
              "    }\n",
              "  </style>\n",
              "\n",
              "      <script>\n",
              "        const buttonEl =\n",
              "          document.querySelector('#df-f4cc15a7-bc2c-4c83-b546-ee5b165f6d53 button.colab-df-convert');\n",
              "        buttonEl.style.display =\n",
              "          google.colab.kernel.accessAllowed ? 'block' : 'none';\n",
              "\n",
              "        async function convertToInteractive(key) {\n",
              "          const element = document.querySelector('#df-f4cc15a7-bc2c-4c83-b546-ee5b165f6d53');\n",
              "          const dataTable =\n",
              "            await google.colab.kernel.invokeFunction('convertToInteractive',\n",
              "                                                     [key], {});\n",
              "          if (!dataTable) return;\n",
              "\n",
              "          const docLinkHtml = 'Like what you see? Visit the ' +\n",
              "            '<a target=\"_blank\" href=https://colab.research.google.com/notebooks/data_table.ipynb>data table notebook</a>'\n",
              "            + ' to learn more about interactive tables.';\n",
              "          element.innerHTML = '';\n",
              "          dataTable['output_type'] = 'display_data';\n",
              "          await google.colab.output.renderOutput(dataTable, element);\n",
              "          const docLink = document.createElement('div');\n",
              "          docLink.innerHTML = docLinkHtml;\n",
              "          element.appendChild(docLink);\n",
              "        }\n",
              "      </script>\n",
              "    </div>\n",
              "  </div>\n",
              "  "
            ]
          },
          "metadata": {},
          "execution_count": 14
        }
      ],
      "source": [
        "df"
      ]
    },
    {
      "cell_type": "markdown",
      "metadata": {
        "id": "9RmY9QLXWhQI"
      },
      "source": [
        "**Добавим часовые пояса, найдем местное время и определим тип транзакции по времени**"
      ]
    },
    {
      "cell_type": "code",
      "source": [
        "time_zones = []\n",
        "\n",
        "for subject in df.subject_of_the_federation:\n",
        "    if subject == \"Калининградская область\":\n",
        "      time_zones.append(2.0)\n",
        "    elif subject == \"Москва\" or subject ==\"Новгородская область\" or subject ==\"Республика Калмыкия\" or subject ==\"Карачаево-Черкесская Республика\" or subject ==\"Ненецкий автономный округ\" or subject ==\"Республика Адыгея (Адыгея)\" or subject ==\"Республика Ингушетия\" or subject ==\"Республика Крым\" or subject ==\"Московская область\" or subject ==\"Ленинградская область\" or subject ==\"Санкт-Петербург\" or subject ==\"Нижегородская область\" or subject ==\"Республика Татарстан (Татарстан)\" or subject ==\"Ростовская область\" or subject == \"Воронежская область\" or subject ==\"Краснодарский край\" or subject ==\"Ярославская область\" or subject ==\"Республика Дагестан\" or subject ==\"Рязанская область\" or subject == \"Пензенская область\" or subject ==\"Липецкая область\" or subject ==\"Кировская область\" or subject ==\"Чувашская Республика - Чувашия\" or subject ==\"Тульская область\" or subject ==\"Курская область\" or subject ==\"Ставропольский край\" or subject ==\"Краснодарский край\" or subject ==\"Тверская область\" or subject ==\"Ивановская область\" or subject ==\"Брянская область\" or subject ==\"Белгородская область\" or subject ==\"Владимирская область\" or subject ==\"Архангельская область\" or subject ==\"Калужская область\" or subject ==\"Смоленская область\" or subject ==\"Республика Мордовия\" or subject ==\"Орловская область\" or subject ==\"Вологодская область\" or subject ==\"Республика Северная Осетия - Алания\" or subject ==\"Чеченская Республика\" or subject ==\"Мурманская область\" or subject ==\"Тамбовская область\" or subject ==\"Республика Карелия\" or subject ==\"Костромская область\" or subject ==\"Краснодарский край\" or subject ==\"Республика Марий Эл\" or subject ==\"Ростовская область\" or subject ==\"Республика Коми\" or subject ==\"Кабардино-Балкарская Республика\" or subject ==\"Севастополь\" or subject ==\"Псковская область\":\n",
        "      time_zones.append(3.0)\n",
        "    elif subject == \"Самарская область\" or subject == \"Волгоградская область\" or subject ==\"Удмуртская Республика\" or subject ==\"Ульяновская область\" or subject ==\"Астраханская область\" or subject ==\"Саратовская область\":\n",
        "      time_zones.append(4.0)\n",
        "    elif subject ==\"Свердловская область\" or subject ==\"Ямало-Ненецкий автономный округ\" or subject == \"Челябинская область\" or subject == \"Республика Башкортостан\" or subject == \"Пермский край\" or subject == \"Тюменская область\" or subject == \"Оренбургская область\" or subject == \"Ханты-Мансийский автономный округ - Югра\" or subject == \"Свердловская область\" or subject == \"Курганская область\" or subject == \"Оренбургская область\":\n",
        "      time_zones.append(5.0)\n",
        "    elif subject == \"Омская область\":\n",
        "      time_zones.append(6.0)\n",
        "    elif subject == \"Новосибирская область\" or subject ==\"Республика Хакасия\" or subject ==\"Республика Тыва\" or subject == \"Красноярский край\" or subject == \"Алтайский край\" or subject == \"Томская область\" or subject == \"Кемеровская область\" or subject ==\"Республика Алтай\":\n",
        "      time_zones.append(7.0)\n",
        "    elif subject == \"Иркутская область\" or subject ==\"Республика Бурятия\":\n",
        "      time_zones.append(8.0)\n",
        "    elif subject == \"Забайкальский край\" or subject ==\"Республика Саха (Якутия)\" or subject ==\"Амурская область\":\n",
        "      time_zones.append(9.0)\n",
        "    elif subject == \"Хабаровский край\" or subject == \"Приморский край\" or subject ==\"Еврейская автономная область\":\n",
        "      time_zones.append(10.0)\n",
        "    elif subject == \"Магаданская область\" or subject ==\"Сахалинская область\":\n",
        "      time_zones.append(11.0)\n",
        "    elif subject == \"Камчатский край\" or subject == \"Чукотский автономный округ\":\n",
        "      time_zones.append(12.0)\n",
        "    elif subject == \"Другой\":\n",
        "      time_zones.append(0.0)"
      ],
      "metadata": {
        "id": "kBTECyTrE8U5"
      },
      "execution_count": null,
      "outputs": []
    },
    {
      "cell_type": "code",
      "source": [
        "df['time_zone'] = time_zones"
      ],
      "metadata": {
        "id": "jjLYkudeFVmW"
      },
      "execution_count": null,
      "outputs": []
    },
    {
      "cell_type": "code",
      "source": [
        "from datetime import datetime, timedelta\n",
        "\n",
        "def changing_execution_time(time, time_zone):\n",
        "  time = datetime.strptime(time, '%Y-%m-%d %H:%M:%S.%f')\n",
        "  time = time + timedelta(hours = time_zone)\n",
        "  return time"
      ],
      "metadata": {
        "id": "1zmi_eI7FWMO"
      },
      "execution_count": null,
      "outputs": []
    },
    {
      "cell_type": "code",
      "source": [
        "local_time = []\n",
        "for i in range(len(df)):\n",
        "  if i%100000 == 0:\n",
        "    print(i)\n",
        "  local_time.append(changing_execution_time(df.execution_time[i], df.time_zone[i]))"
      ],
      "metadata": {
        "id": "AfgJs2TsFu5D"
      },
      "execution_count": null,
      "outputs": []
    },
    {
      "cell_type": "code",
      "source": [
        "df['local_time'] = local_time"
      ],
      "metadata": {
        "id": "kIcNI_5XT9Xf"
      },
      "execution_count": null,
      "outputs": []
    },
    {
      "cell_type": "code",
      "source": [
        "time = []\n",
        "\n",
        "def time_of_day(time_str):\n",
        "  format = '%H:%M:%S'\n",
        "  time_str = time_str.time()\n",
        "  if time_str >= datetime.strptime('07:00:00', format).time() and time_str <= datetime.strptime('12:00:00', format).time():\n",
        "    return 'Завтрак'\n",
        "  elif time_str > datetime.strptime('12:00:00', format).time() and time_str <= datetime.strptime('16:00:00', format).time():\n",
        "    return 'Обед'\n",
        "  elif (time_str > datetime.strptime('16:00:00', format).time() and time_str <= datetime.strptime('23:59:59', format).time()) or (time_str >= datetime.strptime('00:00:00', format).time() and time_str <= datetime.strptime('02:00:00', format).time()) :\n",
        "    return 'Ужин'\n",
        "  else:\n",
        "    return 'Ночь'\n",
        "\n",
        "for i in range (len(df)):\n",
        "  if i % 100000 == 0:\n",
        "    print(i)\n",
        "  time.append(time_of_day(df['local_time'][i]))\n",
        "\n",
        "df['time_of_day'] = time"
      ],
      "metadata": {
        "id": "Fou5bulTFwFT"
      },
      "execution_count": null,
      "outputs": []
    },
    {
      "cell_type": "code",
      "source": [
        "df.to_csv('df_from_july_till_november.csv')"
      ],
      "metadata": {
        "id": "dRay6aeAYuHC"
      },
      "execution_count": null,
      "outputs": []
    },
    {
      "cell_type": "markdown",
      "source": [
        "**Разделим на сегменты и определим нажатую кнопку**\n",
        "\n",
        "Диапазон 0: 0 - 1000 рублей"
      ],
      "metadata": {
        "id": "wzeZ3QQrcIdB"
      }
    },
    {
      "cell_type": "code",
      "source": [
        "d0 = df[(df['check_sum'] <= 1000) & (df['check_sum'] > 0)].copy().reset_index()"
      ],
      "metadata": {
        "id": "l5J4oJtQcT64"
      },
      "execution_count": null,
      "outputs": []
    },
    {
      "cell_type": "code",
      "source": [
        "b_1 = []\n",
        "b_2 = []\n",
        "b_3 = []\n",
        "b_4 = []\n",
        "\n",
        "for i in range(len(d0)):\n",
        "  if i%10000 == 0 :\n",
        "    print(i)\n",
        "  b_1.append(d0['values'][i][0])\n",
        "  b_2.append(d0['values'][i][1])\n",
        "  b_3.append(d0['values'][i][2])\n",
        "  b_4.append(d0['values'][i][3])"
      ],
      "metadata": {
        "id": "ybfCUq3Ac31p"
      },
      "execution_count": null,
      "outputs": []
    },
    {
      "cell_type": "code",
      "source": [
        "d0['b_1'] = b_1\n",
        "d0['b_2'] = b_2\n",
        "d0['b_3'] = b_3\n",
        "d0['b_4'] = b_4"
      ],
      "metadata": {
        "id": "pHx6YGMhdiyJ"
      },
      "execution_count": null,
      "outputs": []
    },
    {
      "cell_type": "code",
      "source": [
        "type = np.array([])\n",
        "#0 - ручной ввод\n",
        "#1 - проценты\n",
        "#2 - суммы \n",
        "eps = 0.001\n",
        "for i in range (d0.shape[0]):\n",
        "  if d0['b_4'][i] >= 100:\n",
        "    if d0['amount'][i] == d0['values'][i][0] or d0['amount'][i] == d0['values'][i][1] or d0['amount'][i] == d0['values'][i][2] or d0['amount'][i] == d0['values'][i][3]:\n",
        "      type = np.append(type, 2)\n",
        "    else:\n",
        "      type = np.append(type, 0)\n",
        "  else:\n",
        "    if (d0['amount'][i]/d0['check_sum'][i] <= d0['values'][i][0]/100 + eps and d0['amount'][i]/d0['check_sum'][i] >= d0['values'][i][0]/100 - eps) or (d0['amount'][i]/d0['check_sum'][i] <= d0['values'][i][1]/100 + eps and d0['amount'][i]/d0['check_sum'][i] >= d0['values'][i][1]/100 - eps) or (d0['amount'][i]/d0['check_sum'][i] <= d0['values'][i][2]/100 + eps and d0['amount'][i]/d0['check_sum'][i] >= d0['values'][i][2]/100 - eps) or (d0['amount'][i]/d0['check_sum'][i] <= d0['values'][i][3]/100 + eps and d0['amount'][i]/d0['check_sum'][i] >= d0['values'][i][3]/100 - eps):\n",
        "      type = np.append(type, 1)\n",
        "    else:\n",
        "      type = np.append(type, 0)"
      ],
      "metadata": {
        "id": "8wKzl-u7e9OQ"
      },
      "execution_count": null,
      "outputs": []
    },
    {
      "cell_type": "code",
      "source": [
        "d0['type_of_selected_button'] = type"
      ],
      "metadata": {
        "id": "a8EjaB1nd5if"
      },
      "execution_count": null,
      "outputs": []
    },
    {
      "cell_type": "code",
      "source": [
        "eps = 0.001\n",
        "selected_button = np.array([])\n",
        "\n",
        "for i in range (d0.shape[0]):\n",
        "  if d0['type_of_selected_button'][i] == 2:\n",
        "    if d0['amount'][i] == d0['values'][i][0]:\n",
        "      selected_button = np.append(selected_button, d0['values'][i][0])\n",
        "    elif d0['amount'][i] == d0['values'][i][1]:\n",
        "      selected_button = np.append(selected_button, d0['values'][i][1])\n",
        "    elif d0['amount'][i] == d0['values'][i][2]:\n",
        "      selected_button = np.append(selected_button, d0['values'][i][2])\n",
        "    elif d0['amount'][i] == d0['values'][i][3]:\n",
        "      selected_button = np.append(selected_button, d0['values'][i][3])\n",
        "  elif d0['type_of_selected_button'][i] == 1:\n",
        "      if (d0['amount'][i]/d0['check_sum'][i] <= d0['values'][i][0]/100 + eps) and (d0['amount'][i]/d0['check_sum'][i] >= d0['values'][i][0]/100 - eps):\n",
        "        selected_button = np.append(selected_button, d0['values'][i][0])\n",
        "      elif (d0['amount'][i]/d0['check_sum'][i] <= d0['values'][i][1]/100 + eps and d0['amount'][i]/d0['check_sum'][i] >= d0['values'][i][1]/100 - eps):\n",
        "        selected_button = np.append(selected_button, d0['values'][i][1])\n",
        "      elif (d0['amount'][i]/d0['check_sum'][i] <= d0['values'][i][2]/100 + eps and d0['amount'][i]/d0['check_sum'][i] >= d0['values'][i][2]/100 - eps):\n",
        "        selected_button = np.append(selected_button, d0['values'][i][2])\n",
        "      elif (d0['amount'][i]/d0['check_sum'][i] <= d0['values'][i][3]/100 + eps and d0['amount'][i]/d0['check_sum'][i] >= d0['values'][i][3]/100 - eps):\n",
        "        selected_button = np.append(selected_button, d0['values'][i][3])\n",
        "  else:\n",
        "    selected_button = np.append(selected_button, d0['amount'][i])"
      ],
      "metadata": {
        "id": "UXXMvch8gl_V"
      },
      "execution_count": null,
      "outputs": []
    },
    {
      "cell_type": "code",
      "source": [
        "d0['selected_button'] = selected_button"
      ],
      "metadata": {
        "id": "O__k5EuthvkG"
      },
      "execution_count": null,
      "outputs": []
    },
    {
      "cell_type": "code",
      "source": [
        "d0.to_csv('diapason_0.csv')"
      ],
      "metadata": {
        "id": "uxRlr1wNh3Ay"
      },
      "execution_count": null,
      "outputs": []
    },
    {
      "cell_type": "markdown",
      "source": [
        "Диапазон 1: 1000 - 1500"
      ],
      "metadata": {
        "id": "wb-TOXYAiF-g"
      }
    },
    {
      "cell_type": "code",
      "source": [
        "d1 = df[(df['check_sum'] > 1000) & (df['check_sum'] <= 1500)].copy().reset_index()"
      ],
      "metadata": {
        "id": "xfBLeTVEiFS4"
      },
      "execution_count": null,
      "outputs": []
    },
    {
      "cell_type": "code",
      "source": [
        "b_1 = []\n",
        "b_2 = []\n",
        "b_3 = []\n",
        "b_4 = []\n",
        "\n",
        "for i in range(len(d1)):\n",
        "  if i%10000 == 0 :\n",
        "    print(i)\n",
        "  b_1.append(d1['values'][i][0])\n",
        "  b_2.append(d1['values'][i][1])\n",
        "  b_3.append(d1['values'][i][2])\n",
        "  b_4.append(d1['values'][i][3])"
      ],
      "metadata": {
        "id": "reiXeDmyibXI"
      },
      "execution_count": null,
      "outputs": []
    },
    {
      "cell_type": "code",
      "source": [
        "d1['b_1'] = b_1\n",
        "d1['b_2'] = b_2\n",
        "d1['b_3'] = b_3\n",
        "d1['b_4'] = b_4"
      ],
      "metadata": {
        "id": "huF538x8ikUP"
      },
      "execution_count": null,
      "outputs": []
    },
    {
      "cell_type": "code",
      "source": [
        "type = []\n",
        "#0 - ручной ввод\n",
        "#1 - проценты\n",
        "#2 - суммы \n",
        "eps = 0.001\n",
        "for i in range (d1.shape[0]):\n",
        "  if d1['b_4'][i] >= 100:\n",
        "    if d1['amount'][i] == d1['values'][i][0] or d1['amount'][i] == d1['values'][i][1] or d1['amount'][i] == d1['values'][i][2] or d1['amount'][i] == d1['values'][i][3]:\n",
        "      type.append(2)\n",
        "    else:\n",
        "      type.append(0)\n",
        "  else:\n",
        "    if (d1['amount'][i]/d1['check_sum'][i] <= d1['values'][i][0]/100 + eps and d1['amount'][i]/d1['check_sum'][i] >= d1['values'][i][0]/100 - eps) or (d1['amount'][i]/d1['check_sum'][i] <= d1['values'][i][1]/100 + eps and d1['amount'][i]/d1['check_sum'][i] >= d1['values'][i][1]/100 - eps) or (d1['amount'][i]/d1['check_sum'][i] <= d1['values'][i][2]/100 + eps and d1['amount'][i]/d1['check_sum'][i] >= d1['values'][i][2]/100 - eps) or (d1['amount'][i]/d1['check_sum'][i] <= d1['values'][i][3]/100 + eps and d1['amount'][i]/d1['check_sum'][i] >= d1['values'][i][3]/100 - eps):\n",
        "      type.append(1)\n",
        "    else:\n",
        "      type.append(0)"
      ],
      "metadata": {
        "id": "XnFCBzXRiw_h"
      },
      "execution_count": null,
      "outputs": []
    },
    {
      "cell_type": "code",
      "source": [
        "d1['type_of_selected_button'] = type"
      ],
      "metadata": {
        "id": "FPvKqHnki_LL"
      },
      "execution_count": null,
      "outputs": []
    },
    {
      "cell_type": "code",
      "source": [
        "eps = 0.001\n",
        "selected_button = []\n",
        "\n",
        "for i in range (d1.shape[0]):\n",
        "  if d1['type_of_selected_button'][i] == 2:\n",
        "    if d1['amount'][i] == d1['values'][i][0]:\n",
        "      selected_button.append(d1['values'][i][0])\n",
        "    elif d1['amount'][i] == d1['values'][i][1]:\n",
        "      selected_button.append(d1['values'][i][1])\n",
        "    elif d1['amount'][i] == d1['values'][i][2]:\n",
        "      selected_button.append(d1['values'][i][2])\n",
        "    elif d1['amount'][i] == d1['values'][i][3]:\n",
        "      selected_button.append( d1['values'][i][3])\n",
        "  elif d1['type_of_selected_button'][i] == 1:\n",
        "      if (d1['amount'][i]/d1['check_sum'][i] <= d1['values'][i][0]/100 + eps) and (d1['amount'][i]/d1['check_sum'][i] >= d1['values'][i][0]/100 - eps):\n",
        "        selected_button.append(d1['values'][i][0])\n",
        "      elif (d1['amount'][i]/d1['check_sum'][i] <= d1['values'][i][1]/100 + eps and d1['amount'][i]/d1['check_sum'][i] >= d1['values'][i][1]/100 - eps):\n",
        "        selected_button.append(d1['values'][i][1])\n",
        "      elif (d1['amount'][i]/d1['check_sum'][i] <= d1['values'][i][2]/100 + eps and d1['amount'][i]/d1['check_sum'][i] >= d1['values'][i][2]/100 - eps):\n",
        "        selected_button.append(d1['values'][i][2])\n",
        "      elif (d1['amount'][i]/d1['check_sum'][i] <= d1['values'][i][3]/100 + eps and d1['amount'][i]/d1['check_sum'][i] >= d1['values'][i][3]/100 - eps):\n",
        "        selected_button.append(d1['values'][i][3])\n",
        "  else:\n",
        "    selected_button.append(d1['amount'][i])"
      ],
      "metadata": {
        "id": "Wih5FLWWjvPu"
      },
      "execution_count": null,
      "outputs": []
    },
    {
      "cell_type": "code",
      "source": [
        "d1['selected_button'] = selected_button"
      ],
      "metadata": {
        "id": "7kZVESl9k1Qj"
      },
      "execution_count": null,
      "outputs": []
    },
    {
      "cell_type": "code",
      "source": [
        "d1.to_csv('diapason_1.csv')"
      ],
      "metadata": {
        "id": "JW1EyTgpk9ta"
      },
      "execution_count": null,
      "outputs": []
    },
    {
      "cell_type": "markdown",
      "source": [
        "Диапазон 2: 1500 - 2100"
      ],
      "metadata": {
        "id": "_pk1Ud4glMUZ"
      }
    },
    {
      "cell_type": "code",
      "source": [
        "d2 = df[(df['check_sum'] > 1500) & (df['check_sum'] <= 2100)].copy().reset_index()"
      ],
      "metadata": {
        "id": "4yQcjo9UlRjA"
      },
      "execution_count": null,
      "outputs": []
    },
    {
      "cell_type": "code",
      "source": [
        "b_1 = []\n",
        "b_2 = []\n",
        "b_3 = []\n",
        "b_4 = []\n",
        "\n",
        "for i in range(len(d2)):\n",
        "  b_1.append(d2['values'][i][0])\n",
        "  b_2.append(d2['values'][i][1])\n",
        "  b_3.append(d2['values'][i][2])\n",
        "  b_4.append(d2['values'][i][3])"
      ],
      "metadata": {
        "id": "V3YM3-GFleT-"
      },
      "execution_count": null,
      "outputs": []
    },
    {
      "cell_type": "code",
      "source": [
        "d2['b_1'] = b_1\n",
        "d2['b_2'] = b_2\n",
        "d2['b_3'] = b_3\n",
        "d2['b_4'] = b_4"
      ],
      "metadata": {
        "id": "HYIPte43ljRi"
      },
      "execution_count": null,
      "outputs": []
    },
    {
      "cell_type": "code",
      "source": [
        "type = []\n",
        "#0 - ручной ввод\n",
        "#1 - проценты\n",
        "#2 - суммы \n",
        "eps = 0.001\n",
        "for i in range (d2.shape[0]):\n",
        "  if d2['b_4'][i] >= 100:\n",
        "    if d2['amount'][i] == d2['values'][i][0] or d2['amount'][i] == d2['values'][i][1] or d2['amount'][i] == d2['values'][i][2] or d2['amount'][i] == d2['values'][i][3]:\n",
        "      type.append(2)\n",
        "    else:\n",
        "      type.append(0)\n",
        "  else:\n",
        "    if (d2['amount'][i]/d2['check_sum'][i] <= d2['values'][i][0]/100 + eps and d2['amount'][i]/d2['check_sum'][i] >= d2['values'][i][0]/100 - eps) or (d2['amount'][i]/d2['check_sum'][i] <= d2['values'][i][1]/100 + eps and d2['amount'][i]/d2['check_sum'][i] >= d2['values'][i][1]/100 - eps) or (d2['amount'][i]/d2['check_sum'][i] <= d2['values'][i][2]/100 + eps and d2['amount'][i]/d2['check_sum'][i] >= d2['values'][i][2]/100 - eps) or (d2['amount'][i]/d2['check_sum'][i] <= d2['values'][i][3]/100 + eps and d2['amount'][i]/d2['check_sum'][i] >= d2['values'][i][3]/100 - eps):\n",
        "      type.append(1)\n",
        "    else:\n",
        "      type.append(0)"
      ],
      "metadata": {
        "id": "t8FSCyyElqWN"
      },
      "execution_count": null,
      "outputs": []
    },
    {
      "cell_type": "code",
      "source": [
        "d2['type_of_selected_button'] = type"
      ],
      "metadata": {
        "id": "YnjGha2wl6sp"
      },
      "execution_count": null,
      "outputs": []
    },
    {
      "cell_type": "code",
      "source": [
        "eps = 0.001\n",
        "selected_button = []\n",
        "\n",
        "for i in range (d2 .shape[0]):\n",
        "  if d2 ['type_of_selected_button'][i] == 2:\n",
        "    if d2 ['amount'][i] == d2 ['values'][i][0]:\n",
        "      selected_button.append(d2 ['values'][i][0])\n",
        "    elif d2 ['amount'][i] == d2 ['values'][i][1]:\n",
        "      selected_button.append(d2 ['values'][i][1])\n",
        "    elif d2 ['amount'][i] == d2 ['values'][i][2]:\n",
        "      selected_button.append(d2 ['values'][i][2])\n",
        "    elif d2 ['amount'][i] == d2 ['values'][i][3]:\n",
        "      selected_button.append( d2 ['values'][i][3])\n",
        "  elif d2 ['type_of_selected_button'][i] == 1:\n",
        "      if (d2 ['amount'][i]/d2 ['check_sum'][i] <= d2 ['values'][i][0]/100 + eps) and (d2 ['amount'][i]/d2 ['check_sum'][i] >= d2 ['values'][i][0]/100 - eps):\n",
        "        selected_button.append(d2 ['values'][i][0])\n",
        "      elif (d2 ['amount'][i]/d2 ['check_sum'][i] <= d2 ['values'][i][1]/100 + eps and d2 ['amount'][i]/d2 ['check_sum'][i] >= d2 ['values'][i][1]/100 - eps):\n",
        "        selected_button.append(d2 ['values'][i][1])\n",
        "      elif (d2 ['amount'][i]/d2 ['check_sum'][i] <= d2 ['values'][i][2]/100 + eps and d2 ['amount'][i]/d2 ['check_sum'][i] >= d2 ['values'][i][2]/100 - eps):\n",
        "        selected_button.append(d2 ['values'][i][2])\n",
        "      elif (d2 ['amount'][i]/d2 ['check_sum'][i] <= d2 ['values'][i][3]/100 + eps and d2 ['amount'][i]/d2 ['check_sum'][i] >= d2 ['values'][i][3]/100 - eps):\n",
        "        selected_button.append(d2 ['values'][i][3])\n",
        "  else:\n",
        "    selected_button.append(d2 ['amount'][i])"
      ],
      "metadata": {
        "id": "YzR_2AjQmK9B"
      },
      "execution_count": null,
      "outputs": []
    },
    {
      "cell_type": "code",
      "source": [
        "d2['selected_button'] = selected_button"
      ],
      "metadata": {
        "id": "WNmsLb0qmLBS"
      },
      "execution_count": null,
      "outputs": []
    },
    {
      "cell_type": "code",
      "source": [
        "d2.to_csv('diapason_2.csv')"
      ],
      "metadata": {
        "id": "_Va5KtCKmmao"
      },
      "execution_count": null,
      "outputs": []
    },
    {
      "cell_type": "markdown",
      "source": [
        "Диапазон 3: 2100 - 2700"
      ],
      "metadata": {
        "id": "jLK9fxfGm4iP"
      }
    },
    {
      "cell_type": "code",
      "source": [
        "d3 = df[(df['check_sum'] > 2100) & (df['check_sum'] <= 2700)].copy().reset_index()"
      ],
      "metadata": {
        "id": "oL5o5_3Gm90G"
      },
      "execution_count": null,
      "outputs": []
    },
    {
      "cell_type": "code",
      "source": [
        "b_1 = []\n",
        "b_2 = []\n",
        "b_3 = []\n",
        "b_4 = []\n",
        "\n",
        "for i in range(len(d3)):\n",
        "  b_1.append(d3['values'][i][0])\n",
        "  b_2.append(d3['values'][i][1])\n",
        "  b_3.append(d3['values'][i][2])\n",
        "  b_4.append(d3['values'][i][3])"
      ],
      "metadata": {
        "id": "4gVonb0KnC-n"
      },
      "execution_count": null,
      "outputs": []
    },
    {
      "cell_type": "code",
      "source": [
        "d3['b_1'] = b_1\n",
        "d3['b_2'] = b_2\n",
        "d3['b_3'] = b_3\n",
        "d3['b_4'] = b_4"
      ],
      "metadata": {
        "id": "AHbH2Tg8nIct"
      },
      "execution_count": null,
      "outputs": []
    },
    {
      "cell_type": "code",
      "source": [
        "type = []\n",
        "#0 - ручной ввод\n",
        "#1 - проценты\n",
        "#2 - суммы \n",
        "eps = 0.001\n",
        "for i in range (d3.shape[0]):\n",
        "  if d3['b_4'][i] >= 100:\n",
        "    if d3['amount'][i] == d3['values'][i][0] or d3['amount'][i] == d3['values'][i][1] or d3['amount'][i] == d3['values'][i][2] or d3['amount'][i] == d3['values'][i][3]:\n",
        "      type.append(2)\n",
        "    else:\n",
        "      type.append(0)\n",
        "  else:\n",
        "    if (d3['amount'][i]/d3['check_sum'][i] <= d3['values'][i][0]/100 + eps and d3['amount'][i]/d3['check_sum'][i] >= d3['values'][i][0]/100 - eps) or (d3['amount'][i]/d3['check_sum'][i] <= d3['values'][i][1]/100 + eps and d3['amount'][i]/d3['check_sum'][i] >= d3['values'][i][1]/100 - eps) or (d3['amount'][i]/d3['check_sum'][i] <= d3['values'][i][2]/100 + eps and d3['amount'][i]/d3['check_sum'][i] >= d3['values'][i][2]/100 - eps) or (d3['amount'][i]/d3['check_sum'][i] <= d3['values'][i][3]/100 + eps and d3['amount'][i]/d3['check_sum'][i] >= d3['values'][i][3]/100 - eps):\n",
        "      type.append(1)\n",
        "    else:\n",
        "      type.append(0)"
      ],
      "metadata": {
        "id": "KM66bmZInM0I"
      },
      "execution_count": null,
      "outputs": []
    },
    {
      "cell_type": "code",
      "source": [
        "d3['type_of_selected_button'] = type"
      ],
      "metadata": {
        "id": "hvv69_ASnZXJ"
      },
      "execution_count": null,
      "outputs": []
    },
    {
      "cell_type": "code",
      "source": [
        "eps = 0.001\n",
        "selected_button = []\n",
        "\n",
        "for i in range (d3 .shape[0]):\n",
        "  if d3 ['type_of_selected_button'][i] == 2:\n",
        "    if d3 ['amount'][i] == d3 ['values'][i][0]:\n",
        "      selected_button.append(d3 ['values'][i][0])\n",
        "    elif d3 ['amount'][i] == d3 ['values'][i][1]:\n",
        "      selected_button.append(d3 ['values'][i][1])\n",
        "    elif d3 ['amount'][i] == d3 ['values'][i][2]:\n",
        "      selected_button.append(d3 ['values'][i][2])\n",
        "    elif d3 ['amount'][i] == d3 ['values'][i][3]:\n",
        "      selected_button.append( d3 ['values'][i][3])\n",
        "  elif d3 ['type_of_selected_button'][i] == 1:\n",
        "      if (d3 ['amount'][i]/d3 ['check_sum'][i] <= d3 ['values'][i][0]/100 + eps) and (d3 ['amount'][i]/d3 ['check_sum'][i] >= d3 ['values'][i][0]/100 - eps):\n",
        "        selected_button.append(d3 ['values'][i][0])\n",
        "      elif (d3 ['amount'][i]/d3 ['check_sum'][i] <= d3 ['values'][i][1]/100 + eps and d3 ['amount'][i]/d3 ['check_sum'][i] >= d3 ['values'][i][1]/100 - eps):\n",
        "        selected_button.append(d3 ['values'][i][1])\n",
        "      elif (d3 ['amount'][i]/d3 ['check_sum'][i] <= d3 ['values'][i][2]/100 + eps and d3 ['amount'][i]/d3 ['check_sum'][i] >= d3 ['values'][i][2]/100 - eps):\n",
        "        selected_button.append(d3 ['values'][i][2])\n",
        "      elif (d3 ['amount'][i]/d3 ['check_sum'][i] <= d3 ['values'][i][3]/100 + eps and d3 ['amount'][i]/d3 ['check_sum'][i] >= d3 ['values'][i][3]/100 - eps):\n",
        "        selected_button.append(d3 ['values'][i][3])\n",
        "  else:\n",
        "    selected_button.append(d3 ['amount'][i])"
      ],
      "metadata": {
        "id": "v8TNOErYndON"
      },
      "execution_count": null,
      "outputs": []
    },
    {
      "cell_type": "code",
      "source": [
        "d3['selected_button'] = selected_button"
      ],
      "metadata": {
        "id": "D0F9IcipnqqZ"
      },
      "execution_count": null,
      "outputs": []
    },
    {
      "cell_type": "code",
      "source": [
        "d3.to_csv('diapason_3.csv')"
      ],
      "metadata": {
        "id": "jF8Z8mx7nva2"
      },
      "execution_count": null,
      "outputs": []
    },
    {
      "cell_type": "markdown",
      "source": [
        "Диапазон 4: 2700 - 3300\n"
      ],
      "metadata": {
        "id": "iSpJhNaen2Fg"
      }
    },
    {
      "cell_type": "code",
      "source": [
        "d4 = df[(df['check_sum'] > 2700) & (df['check_sum'] <= 3300)].copy().reset_index()"
      ],
      "metadata": {
        "id": "GkyZDyn8oCU-"
      },
      "execution_count": null,
      "outputs": []
    },
    {
      "cell_type": "code",
      "source": [
        "b_1 = []\n",
        "b_2 = []\n",
        "b_3 = []\n",
        "b_4 = []\n",
        "\n",
        "for i in range(len(d4)):\n",
        "  b_1.append(d4['values'][i][0])\n",
        "  b_2.append(d4['values'][i][1])\n",
        "  b_3.append(d4['values'][i][2])\n",
        "  b_4.append(d4['values'][i][3])"
      ],
      "metadata": {
        "id": "vtRCR1g-oGdM"
      },
      "execution_count": null,
      "outputs": []
    },
    {
      "cell_type": "code",
      "source": [
        "d4['b_1'] = b_1\n",
        "d4['b_2'] = b_2\n",
        "d4['b_3'] = b_3\n",
        "d4['b_4'] = b_4"
      ],
      "metadata": {
        "id": "YyHmgEp4oMjI"
      },
      "execution_count": null,
      "outputs": []
    },
    {
      "cell_type": "code",
      "source": [
        "type = []\n",
        "#0 - ручной ввод\n",
        "#1 - проценты\n",
        "#2 - суммы \n",
        "eps = 0.001\n",
        "for i in range (d4.shape[0]):\n",
        "  if d4['b_4'][i] >= 100:\n",
        "    if d4['amount'][i] == d4['values'][i][0] or d4['amount'][i] == d4['values'][i][1] or d4['amount'][i] == d4['values'][i][2] or d4['amount'][i] == d4['values'][i][3]:\n",
        "      type.append(2)\n",
        "    else:\n",
        "      type.append(0)\n",
        "  else:\n",
        "    if (d4['amount'][i]/d4['check_sum'][i] <= d4['values'][i][0]/100 + eps and d4['amount'][i]/d4['check_sum'][i] >= d4['values'][i][0]/100 - eps) or (d4['amount'][i]/d4['check_sum'][i] <= d4['values'][i][1]/100 + eps and d4['amount'][i]/d4['check_sum'][i] >= d4['values'][i][1]/100 - eps) or (d4['amount'][i]/d4['check_sum'][i] <= d4['values'][i][2]/100 + eps and d4['amount'][i]/d4['check_sum'][i] >= d4['values'][i][2]/100 - eps) or (d4['amount'][i]/d4['check_sum'][i] <= d4['values'][i][3]/100 + eps and d4['amount'][i]/d4['check_sum'][i] >= d4['values'][i][3]/100 - eps):\n",
        "      type.append(1)\n",
        "    else:\n",
        "      type.append(0)"
      ],
      "metadata": {
        "id": "l3m-65PdoQnX"
      },
      "execution_count": null,
      "outputs": []
    },
    {
      "cell_type": "code",
      "source": [
        "d4['type_of_selected_button'] = type"
      ],
      "metadata": {
        "id": "3akqV-W5obUn"
      },
      "execution_count": null,
      "outputs": []
    },
    {
      "cell_type": "code",
      "source": [
        "eps = 0.001\n",
        "selected_button = []\n",
        "\n",
        "for i in range (d4 .shape[0]):\n",
        "  if d4 ['type_of_selected_button'][i] == 2:\n",
        "    if d4 ['amount'][i] == d4 ['values'][i][0]:\n",
        "      selected_button.append(d4 ['values'][i][0])\n",
        "    elif d4 ['amount'][i] == d4 ['values'][i][1]:\n",
        "      selected_button.append(d4 ['values'][i][1])\n",
        "    elif d4 ['amount'][i] == d4 ['values'][i][2]:\n",
        "      selected_button.append(d4 ['values'][i][2])\n",
        "    elif d4 ['amount'][i] == d4 ['values'][i][3]:\n",
        "      selected_button.append( d4 ['values'][i][3])\n",
        "  elif d4 ['type_of_selected_button'][i] == 1:\n",
        "      if (d4 ['amount'][i]/d4 ['check_sum'][i] <= d4 ['values'][i][0]/100 + eps) and (d4 ['amount'][i]/d4 ['check_sum'][i] >= d4 ['values'][i][0]/100 - eps):\n",
        "        selected_button.append(d4 ['values'][i][0])\n",
        "      elif (d4 ['amount'][i]/d4 ['check_sum'][i] <= d4 ['values'][i][1]/100 + eps and d4 ['amount'][i]/d4 ['check_sum'][i] >= d4 ['values'][i][1]/100 - eps):\n",
        "        selected_button.append(d4 ['values'][i][1])\n",
        "      elif (d4 ['amount'][i]/d4 ['check_sum'][i] <= d4 ['values'][i][2]/100 + eps and d4 ['amount'][i]/d4 ['check_sum'][i] >= d4 ['values'][i][2]/100 - eps):\n",
        "        selected_button.append(d4 ['values'][i][2])\n",
        "      elif (d4 ['amount'][i]/d4 ['check_sum'][i] <= d4 ['values'][i][3]/100 + eps and d4 ['amount'][i]/d4 ['check_sum'][i] >= d4 ['values'][i][3]/100 - eps):\n",
        "        selected_button.append(d4 ['values'][i][3])\n",
        "  else:\n",
        "    selected_button.append(d4 ['amount'][i])"
      ],
      "metadata": {
        "id": "htKe_4yFoe7x"
      },
      "execution_count": null,
      "outputs": []
    },
    {
      "cell_type": "code",
      "source": [
        "d4['selected_button'] = selected_button"
      ],
      "metadata": {
        "id": "n8__qjleopFN"
      },
      "execution_count": null,
      "outputs": []
    },
    {
      "cell_type": "code",
      "source": [
        "d4.to_csv('diapason_4.csv')"
      ],
      "metadata": {
        "id": "98qL0urYorvd"
      },
      "execution_count": null,
      "outputs": []
    },
    {
      "cell_type": "markdown",
      "source": [
        "Диапазон 5: 3300 - 4100"
      ],
      "metadata": {
        "id": "Mx3m2XyAAbg4"
      }
    },
    {
      "cell_type": "code",
      "source": [
        "d5 = df[(df['check_sum'] > 3300) & (df['check_sum'] <= 4100)].copy().reset_index()"
      ],
      "metadata": {
        "id": "LxeTEYdfAfjD"
      },
      "execution_count": null,
      "outputs": []
    },
    {
      "cell_type": "code",
      "source": [
        "b_1 = []\n",
        "b_2 = []\n",
        "b_3 = []\n",
        "b_4 = []\n",
        "\n",
        "for i in range(len(d5)):\n",
        "  b_1.append(d5['values'][i][0])\n",
        "  b_2.append(d5['values'][i][1])\n",
        "  b_3.append(d5['values'][i][2])\n",
        "  b_4.append(d5['values'][i][3])"
      ],
      "metadata": {
        "id": "-SkqPbkyAkLx"
      },
      "execution_count": null,
      "outputs": []
    },
    {
      "cell_type": "code",
      "source": [
        "d5['b_1'] = b_1\n",
        "d5['b_2'] = b_2\n",
        "d5['b_3'] = b_3\n",
        "d5['b_4'] = b_4"
      ],
      "metadata": {
        "id": "QkYITAKqAoa3"
      },
      "execution_count": null,
      "outputs": []
    },
    {
      "cell_type": "code",
      "source": [
        "type = []\n",
        "#0 - ручной ввод\n",
        "#1 - проценты\n",
        "#2 - суммы \n",
        "eps = 0.001\n",
        "for i in range (d5.shape[0]):\n",
        "  if d5['b_4'][i] >= 100:\n",
        "    if d5['amount'][i] == d5['values'][i][0] or d5['amount'][i] == d5['values'][i][1] or d5['amount'][i] == d5['values'][i][2] or d5['amount'][i] == d5['values'][i][3]:\n",
        "      type.append(2)\n",
        "    else:\n",
        "      type.append(0)\n",
        "  else:\n",
        "    if (d5['amount'][i]/d5['check_sum'][i] <= d5['values'][i][0]/100 + eps and d5['amount'][i]/d5['check_sum'][i] >= d5['values'][i][0]/100 - eps) or (d5['amount'][i]/d5['check_sum'][i] <= d5['values'][i][1]/100 + eps and d5['amount'][i]/d5['check_sum'][i] >= d5['values'][i][1]/100 - eps) or (d5['amount'][i]/d5['check_sum'][i] <= d5['values'][i][2]/100 + eps and d5['amount'][i]/d5['check_sum'][i] >= d5['values'][i][2]/100 - eps) or (d5['amount'][i]/d5['check_sum'][i] <= d5['values'][i][3]/100 + eps and d5['amount'][i]/d5['check_sum'][i] >= d5['values'][i][3]/100 - eps):\n",
        "      type.append(1)\n",
        "    else:\n",
        "      type.append(0)"
      ],
      "metadata": {
        "id": "Xzb6vj_DAsRq"
      },
      "execution_count": null,
      "outputs": []
    },
    {
      "cell_type": "code",
      "source": [
        "d5['type_of_selected_button'] = type"
      ],
      "metadata": {
        "id": "bRuoMzASA_IB"
      },
      "execution_count": null,
      "outputs": []
    },
    {
      "cell_type": "code",
      "source": [
        "eps = 0.001\n",
        "selected_button = []\n",
        "\n",
        "for i in range (d5 .shape[0]):\n",
        "  if d5 ['type_of_selected_button'][i] == 2:\n",
        "    if d5 ['amount'][i] == d5 ['values'][i][0]:\n",
        "      selected_button.append(d5 ['values'][i][0])\n",
        "    elif d5 ['amount'][i] == d5 ['values'][i][1]:\n",
        "      selected_button.append(d5 ['values'][i][1])\n",
        "    elif d5 ['amount'][i] == d5 ['values'][i][2]:\n",
        "      selected_button.append(d5 ['values'][i][2])\n",
        "    elif d5 ['amount'][i] == d5 ['values'][i][3]:\n",
        "      selected_button.append( d5 ['values'][i][3])\n",
        "  elif d5 ['type_of_selected_button'][i] == 1:\n",
        "      if (d5 ['amount'][i]/d5 ['check_sum'][i] <= d5 ['values'][i][0]/100 + eps) and (d5 ['amount'][i]/d5 ['check_sum'][i] >= d5 ['values'][i][0]/100 - eps):\n",
        "        selected_button.append(d5 ['values'][i][0])\n",
        "      elif (d5 ['amount'][i]/d5 ['check_sum'][i] <= d5 ['values'][i][1]/100 + eps and d5 ['amount'][i]/d5 ['check_sum'][i] >= d5 ['values'][i][1]/100 - eps):\n",
        "        selected_button.append(d5 ['values'][i][1])\n",
        "      elif (d5 ['amount'][i]/d5 ['check_sum'][i] <= d5 ['values'][i][2]/100 + eps and d5 ['amount'][i]/d5 ['check_sum'][i] >= d5 ['values'][i][2]/100 - eps):\n",
        "        selected_button.append(d5 ['values'][i][2])\n",
        "      elif (d5 ['amount'][i]/d5 ['check_sum'][i] <= d5 ['values'][i][3]/100 + eps and d5 ['amount'][i]/d5 ['check_sum'][i] >= d5 ['values'][i][3]/100 - eps):\n",
        "        selected_button.append(d5 ['values'][i][3])\n",
        "  else:\n",
        "    selected_button.append(d5 ['amount'][i])"
      ],
      "metadata": {
        "id": "M1FUgQHBBC69"
      },
      "execution_count": null,
      "outputs": []
    },
    {
      "cell_type": "code",
      "source": [
        "d5['selected_button'] = selected_button"
      ],
      "metadata": {
        "id": "dh62S_b1BLB8"
      },
      "execution_count": null,
      "outputs": []
    },
    {
      "cell_type": "code",
      "source": [
        "d5.to_csv('diapason_5.csv')"
      ],
      "metadata": {
        "id": "deTmDLpBBOJM"
      },
      "execution_count": null,
      "outputs": []
    },
    {
      "cell_type": "markdown",
      "source": [
        "Диапазон 6: 4100 - 5100"
      ],
      "metadata": {
        "id": "X2HV5sVNBZm1"
      }
    },
    {
      "cell_type": "code",
      "source": [
        "d6 = df[(df['check_sum'] > 4100) & (df['check_sum'] <= 5100)].copy().reset_index()"
      ],
      "metadata": {
        "id": "KEe15KbdBgI6"
      },
      "execution_count": null,
      "outputs": []
    },
    {
      "cell_type": "code",
      "source": [
        "b_1 = []\n",
        "b_2 = []\n",
        "b_3 = []\n",
        "b_4 = []\n",
        "\n",
        "for i in range(len(d6)):\n",
        "  b_1.append(d6['values'][i][0])\n",
        "  b_2.append(d6['values'][i][1])\n",
        "  b_3.append(d6['values'][i][2])\n",
        "  b_4.append(d6['values'][i][3])"
      ],
      "metadata": {
        "id": "_xAy0X5nBmjT"
      },
      "execution_count": null,
      "outputs": []
    },
    {
      "cell_type": "code",
      "source": [
        "d6['b_1'] = b_1\n",
        "d6['b_2'] = b_2\n",
        "d6['b_3'] = b_3\n",
        "d6['b_4'] = b_4"
      ],
      "metadata": {
        "id": "cQV18FwfBx8K"
      },
      "execution_count": null,
      "outputs": []
    },
    {
      "cell_type": "code",
      "source": [
        "type = []\n",
        "#0 - ручной ввод\n",
        "#1 - проценты\n",
        "#2 - суммы \n",
        "eps = 0.001\n",
        "for i in range (d6.shape[0]):\n",
        "  if d6['b_4'][i] >= 100:\n",
        "    if d6['amount'][i] == d6['values'][i][0] or d6['amount'][i] == d6['values'][i][1] or d6['amount'][i] == d6['values'][i][2] or d6['amount'][i] == d6['values'][i][3]:\n",
        "      type.append(2)\n",
        "    else:\n",
        "      type.append(0)\n",
        "  else:\n",
        "    if (d6['amount'][i]/d6['check_sum'][i] <= d6['values'][i][0]/100 + eps and d6['amount'][i]/d6['check_sum'][i] >= d6['values'][i][0]/100 - eps) or (d6['amount'][i]/d6['check_sum'][i] <= d6['values'][i][1]/100 + eps and d6['amount'][i]/d6['check_sum'][i] >= d6['values'][i][1]/100 - eps) or (d6['amount'][i]/d6['check_sum'][i] <= d6['values'][i][2]/100 + eps and d6['amount'][i]/d6['check_sum'][i] >= d6['values'][i][2]/100 - eps) or (d6['amount'][i]/d6['check_sum'][i] <= d6['values'][i][3]/100 + eps and d6['amount'][i]/d6['check_sum'][i] >= d6['values'][i][3]/100 - eps):\n",
        "      type.append(1)\n",
        "    else:\n",
        "      type.append(0)"
      ],
      "metadata": {
        "id": "bNDYip5IB1mG"
      },
      "execution_count": null,
      "outputs": []
    },
    {
      "cell_type": "code",
      "source": [
        "d6['type_of_selected_button'] = type"
      ],
      "metadata": {
        "id": "oXn_Fs16CPOM"
      },
      "execution_count": null,
      "outputs": []
    },
    {
      "cell_type": "code",
      "source": [
        "eps = 0.001\n",
        "selected_button = []\n",
        "\n",
        "for i in range (d6 .shape[0]):\n",
        "  if d6 ['type_of_selected_button'][i] == 2:\n",
        "    if d6 ['amount'][i] == d6 ['values'][i][0]:\n",
        "      selected_button.append(d6 ['values'][i][0])\n",
        "    elif d6 ['amount'][i] == d6 ['values'][i][1]:\n",
        "      selected_button.append(d6 ['values'][i][1])\n",
        "    elif d6 ['amount'][i] == d6 ['values'][i][2]:\n",
        "      selected_button.append(d6 ['values'][i][2])\n",
        "    elif d6 ['amount'][i] == d6 ['values'][i][3]:\n",
        "      selected_button.append( d6 ['values'][i][3])\n",
        "  elif d6 ['type_of_selected_button'][i] == 1:\n",
        "      if (d6 ['amount'][i]/d6 ['check_sum'][i] <= d6 ['values'][i][0]/100 + eps) and (d6 ['amount'][i]/d6 ['check_sum'][i] >= d6 ['values'][i][0]/100 - eps):\n",
        "        selected_button.append(d6 ['values'][i][0])\n",
        "      elif (d6 ['amount'][i]/d6 ['check_sum'][i] <= d6 ['values'][i][1]/100 + eps and d6 ['amount'][i]/d6 ['check_sum'][i] >= d6 ['values'][i][1]/100 - eps):\n",
        "        selected_button.append(d6 ['values'][i][1])\n",
        "      elif (d6 ['amount'][i]/d6 ['check_sum'][i] <= d6 ['values'][i][2]/100 + eps and d6 ['amount'][i]/d6 ['check_sum'][i] >= d6 ['values'][i][2]/100 - eps):\n",
        "        selected_button.append(d6 ['values'][i][2])\n",
        "      elif (d6 ['amount'][i]/d6 ['check_sum'][i] <= d6 ['values'][i][3]/100 + eps and d6 ['amount'][i]/d6 ['check_sum'][i] >= d6 ['values'][i][3]/100 - eps):\n",
        "        selected_button.append(d6 ['values'][i][3])\n",
        "  else:\n",
        "    selected_button.append(d6 ['amount'][i])"
      ],
      "metadata": {
        "id": "E04QjbwNCKq4"
      },
      "execution_count": null,
      "outputs": []
    },
    {
      "cell_type": "code",
      "source": [
        "d6['selected_button'] = selected_button"
      ],
      "metadata": {
        "id": "MmdaM6dBCfCo"
      },
      "execution_count": null,
      "outputs": []
    },
    {
      "cell_type": "code",
      "source": [
        "d6.to_csv('diapason_6.csv')"
      ],
      "metadata": {
        "id": "mfLqcxgZCiEz"
      },
      "execution_count": null,
      "outputs": []
    },
    {
      "cell_type": "markdown",
      "source": [
        "Диапазон 7: 5100 - 6600"
      ],
      "metadata": {
        "id": "vNAvNF7KCzRy"
      }
    },
    {
      "cell_type": "code",
      "source": [
        "d7 = df[(df['check_sum'] > 5100) & (df['check_sum'] <= 6600)].copy().reset_index()"
      ],
      "metadata": {
        "id": "E02WxjmcCytp"
      },
      "execution_count": null,
      "outputs": []
    },
    {
      "cell_type": "code",
      "source": [
        "b_1 = []\n",
        "b_2 = []\n",
        "b_3 = []\n",
        "b_4 = []\n",
        "\n",
        "for i in range(len(d7)):\n",
        "  b_1.append(d7['values'][i][0])\n",
        "  b_2.append(d7['values'][i][1])\n",
        "  b_3.append(d7['values'][i][2])\n",
        "  b_4.append(d7['values'][i][3])"
      ],
      "metadata": {
        "id": "bz2ci9joC8OT"
      },
      "execution_count": null,
      "outputs": []
    },
    {
      "cell_type": "code",
      "source": [
        "d7['b_1'] = b_1\n",
        "d7['b_2'] = b_2\n",
        "d7['b_3'] = b_3\n",
        "d7['b_4'] = b_4"
      ],
      "metadata": {
        "id": "RsW1gU_GDEy_"
      },
      "execution_count": null,
      "outputs": []
    },
    {
      "cell_type": "code",
      "source": [
        "type = []\n",
        "#0 - ручной ввод\n",
        "#1 - проценты\n",
        "#2 - суммы \n",
        "eps = 0.001\n",
        "for i in range (d7.shape[0]):\n",
        "  if d7['b_4'][i] >= 100:\n",
        "    if d7['amount'][i] == d7['values'][i][0] or d7['amount'][i] == d7['values'][i][1] or d7['amount'][i] == d7['values'][i][2] or d7['amount'][i] == d7['values'][i][3]:\n",
        "      type.append(2)\n",
        "    else:\n",
        "      type.append(0)\n",
        "  else:\n",
        "    if (d7['amount'][i]/d7['check_sum'][i] <= d7['values'][i][0]/100 + eps and d7['amount'][i]/d7['check_sum'][i] >= d7['values'][i][0]/100 - eps) or (d7['amount'][i]/d7['check_sum'][i] <= d7['values'][i][1]/100 + eps and d7['amount'][i]/d7['check_sum'][i] >= d7['values'][i][1]/100 - eps) or (d7['amount'][i]/d7['check_sum'][i] <= d7['values'][i][2]/100 + eps and d7['amount'][i]/d7['check_sum'][i] >= d7['values'][i][2]/100 - eps) or (d7['amount'][i]/d7['check_sum'][i] <= d7['values'][i][3]/100 + eps and d7['amount'][i]/d7['check_sum'][i] >= d7['values'][i][3]/100 - eps):\n",
        "      type.append(1)\n",
        "    else:\n",
        "      type.append(0)"
      ],
      "metadata": {
        "id": "knipVR-GDG96"
      },
      "execution_count": null,
      "outputs": []
    },
    {
      "cell_type": "code",
      "source": [
        "d7['type_of_selected_button'] = type"
      ],
      "metadata": {
        "id": "dS7dpEUCDSI_"
      },
      "execution_count": null,
      "outputs": []
    },
    {
      "cell_type": "code",
      "source": [
        "eps = 0.001\n",
        "selected_button = []\n",
        "\n",
        "for i in range (d7 .shape[0]):\n",
        "  if d7 ['type_of_selected_button'][i] == 2:\n",
        "    if d7 ['amount'][i] == d7 ['values'][i][0]:\n",
        "      selected_button.append(d7 ['values'][i][0])\n",
        "    elif d7 ['amount'][i] == d7 ['values'][i][1]:\n",
        "      selected_button.append(d7 ['values'][i][1])\n",
        "    elif d7 ['amount'][i] == d7 ['values'][i][2]:\n",
        "      selected_button.append(d7 ['values'][i][2])\n",
        "    elif d7 ['amount'][i] == d7 ['values'][i][3]:\n",
        "      selected_button.append( d7 ['values'][i][3])\n",
        "  elif d7 ['type_of_selected_button'][i] == 1:\n",
        "      if (d7 ['amount'][i]/d7 ['check_sum'][i] <= d7 ['values'][i][0]/100 + eps) and (d7 ['amount'][i]/d7 ['check_sum'][i] >= d7 ['values'][i][0]/100 - eps):\n",
        "        selected_button.append(d7 ['values'][i][0])\n",
        "      elif (d7 ['amount'][i]/d7 ['check_sum'][i] <= d7 ['values'][i][1]/100 + eps and d7 ['amount'][i]/d7 ['check_sum'][i] >= d7 ['values'][i][1]/100 - eps):\n",
        "        selected_button.append(d7 ['values'][i][1])\n",
        "      elif (d7 ['amount'][i]/d7 ['check_sum'][i] <= d7 ['values'][i][2]/100 + eps and d7 ['amount'][i]/d7 ['check_sum'][i] >= d7 ['values'][i][2]/100 - eps):\n",
        "        selected_button.append(d7 ['values'][i][2])\n",
        "      elif (d7 ['amount'][i]/d7 ['check_sum'][i] <= d7 ['values'][i][3]/100 + eps and d7 ['amount'][i]/d7 ['check_sum'][i] >= d7 ['values'][i][3]/100 - eps):\n",
        "        selected_button.append(d7 ['values'][i][3])\n",
        "  else:\n",
        "    selected_button.append(d7 ['amount'][i])"
      ],
      "metadata": {
        "id": "Y5Rn3DuPDTUr"
      },
      "execution_count": null,
      "outputs": []
    },
    {
      "cell_type": "code",
      "source": [
        "d7['selected_button'] = selected_button"
      ],
      "metadata": {
        "id": "d5qiwP72DeQj"
      },
      "execution_count": null,
      "outputs": []
    },
    {
      "cell_type": "code",
      "source": [
        "d7.to_csv('diapason_7.csv')"
      ],
      "metadata": {
        "id": "1xNHKYz-DfZT"
      },
      "execution_count": null,
      "outputs": []
    },
    {
      "cell_type": "markdown",
      "source": [
        "Диапазон 8: 6600 - 9000"
      ],
      "metadata": {
        "id": "CTNmcX-bDjNS"
      }
    },
    {
      "cell_type": "code",
      "source": [
        "d8 = df[(df['check_sum'] > 6600) & (df['check_sum'] <= 9000)].copy().reset_index()"
      ],
      "metadata": {
        "id": "19yLxXIRDirj"
      },
      "execution_count": null,
      "outputs": []
    },
    {
      "cell_type": "code",
      "source": [
        "b_1 = []\n",
        "b_2 = []\n",
        "b_3 = []\n",
        "b_4 = []\n",
        "\n",
        "for i in range(len(d8)):\n",
        "  b_1.append(d8['values'][i][0])\n",
        "  b_2.append(d8['values'][i][1])\n",
        "  b_3.append(d8['values'][i][2])\n",
        "  b_4.append(d8['values'][i][3])"
      ],
      "metadata": {
        "id": "U03yUcV2dbeW"
      },
      "execution_count": null,
      "outputs": []
    },
    {
      "cell_type": "code",
      "source": [
        "d8['b_1'] = b_1\n",
        "d8['b_2'] = b_2\n",
        "d8['b_3'] = b_3\n",
        "d8['b_4'] = b_4"
      ],
      "metadata": {
        "id": "ihAqLck_df7E"
      },
      "execution_count": null,
      "outputs": []
    },
    {
      "cell_type": "code",
      "source": [
        "type = []\n",
        "#0 - ручной ввод\n",
        "#1 - проценты\n",
        "#2 - суммы \n",
        "eps = 0.001\n",
        "for i in range (d8.shape[0]):\n",
        "  if d8['b_4'][i] >= 100:\n",
        "    if d8['amount'][i] == d8['values'][i][0] or d8['amount'][i] == d8['values'][i][1] or d8['amount'][i] == d8['values'][i][2] or d8['amount'][i] == d8['values'][i][3]:\n",
        "      type.append(2)\n",
        "    else:\n",
        "      type.append(0)\n",
        "  else:\n",
        "    if (d8['amount'][i]/d8['check_sum'][i] <= d8['values'][i][0]/100 + eps and d8['amount'][i]/d8['check_sum'][i] >= d8['values'][i][0]/100 - eps) or (d8['amount'][i]/d8['check_sum'][i] <= d8['values'][i][1]/100 + eps and d8['amount'][i]/d8['check_sum'][i] >= d8['values'][i][1]/100 - eps) or (d8['amount'][i]/d8['check_sum'][i] <= d8['values'][i][2]/100 + eps and d8['amount'][i]/d8['check_sum'][i] >= d8['values'][i][2]/100 - eps) or (d8['amount'][i]/d8['check_sum'][i] <= d8['values'][i][3]/100 + eps and d8['amount'][i]/d8['check_sum'][i] >= d8['values'][i][3]/100 - eps):\n",
        "      type.append(1)\n",
        "    else:\n",
        "      type.append(0)"
      ],
      "metadata": {
        "id": "91k72NgMdj4A"
      },
      "execution_count": null,
      "outputs": []
    },
    {
      "cell_type": "code",
      "source": [
        "d8['type_of_selected_button'] = type"
      ],
      "metadata": {
        "id": "D0AZtp4hdwGZ"
      },
      "execution_count": null,
      "outputs": []
    },
    {
      "cell_type": "code",
      "source": [
        "eps = 0.001\n",
        "selected_button = []\n",
        "\n",
        "for i in range (d8 .shape[0]):\n",
        "  if d8 ['type_of_selected_button'][i] == 2:\n",
        "    if d8 ['amount'][i] == d8 ['values'][i][0]:\n",
        "      selected_button.append(d8 ['values'][i][0])\n",
        "    elif d8 ['amount'][i] == d8 ['values'][i][1]:\n",
        "      selected_button.append(d8 ['values'][i][1])\n",
        "    elif d8 ['amount'][i] == d8 ['values'][i][2]:\n",
        "      selected_button.append(d8 ['values'][i][2])\n",
        "    elif d8 ['amount'][i] == d8 ['values'][i][3]:\n",
        "      selected_button.append( d8 ['values'][i][3])\n",
        "  elif d8 ['type_of_selected_button'][i] == 1:\n",
        "      if (d8 ['amount'][i]/d8 ['check_sum'][i] <= d8 ['values'][i][0]/100 + eps) and (d8 ['amount'][i]/d8 ['check_sum'][i] >= d8 ['values'][i][0]/100 - eps):\n",
        "        selected_button.append(d8 ['values'][i][0])\n",
        "      elif (d8 ['amount'][i]/d8 ['check_sum'][i] <= d8 ['values'][i][1]/100 + eps and d8 ['amount'][i]/d8 ['check_sum'][i] >= d8 ['values'][i][1]/100 - eps):\n",
        "        selected_button.append(d8 ['values'][i][1])\n",
        "      elif (d8 ['amount'][i]/d8 ['check_sum'][i] <= d8 ['values'][i][2]/100 + eps and d8 ['amount'][i]/d8 ['check_sum'][i] >= d8 ['values'][i][2]/100 - eps):\n",
        "        selected_button.append(d8 ['values'][i][2])\n",
        "      elif (d8 ['amount'][i]/d8 ['check_sum'][i] <= d8 ['values'][i][3]/100 + eps and d8 ['amount'][i]/d8 ['check_sum'][i] >= d8 ['values'][i][3]/100 - eps):\n",
        "        selected_button.append(d8 ['values'][i][3])\n",
        "  else:\n",
        "    selected_button.append(d8 ['amount'][i])"
      ],
      "metadata": {
        "id": "xn1siwXXdzMh"
      },
      "execution_count": null,
      "outputs": []
    },
    {
      "cell_type": "code",
      "source": [
        "d8['selected_button'] = selected_button"
      ],
      "metadata": {
        "id": "s8AtG7YIeGI4"
      },
      "execution_count": null,
      "outputs": []
    },
    {
      "cell_type": "code",
      "source": [
        "d8.to_csv('diapason_8.csv')"
      ],
      "metadata": {
        "id": "xzKYySZveIbQ"
      },
      "execution_count": null,
      "outputs": []
    },
    {
      "cell_type": "markdown",
      "source": [
        "Диапазон 9: 9000 - 14900"
      ],
      "metadata": {
        "id": "RGK7IFKEeNHg"
      }
    },
    {
      "cell_type": "code",
      "source": [
        "d9 = df[(df['check_sum'] > 9000) & (df['check_sum'] <= 14900)].copy().reset_index()\n",
        "\n",
        "b_1 = []\n",
        "b_2 = []\n",
        "b_3 = []\n",
        "b_4 = []\n",
        "\n",
        "for i in range(len(d9)):\n",
        "  b_1.append(d9['values'][i][0])\n",
        "  b_2.append(d9['values'][i][1])\n",
        "  b_3.append(d9['values'][i][2])\n",
        "  b_4.append(d9['values'][i][3])\n",
        "\n",
        "d9['b_1'] = b_1\n",
        "d9['b_2'] = b_2\n",
        "d9['b_3'] = b_3\n",
        "d9['b_4'] = b_4\n",
        "\n",
        "type = []\n",
        "#0 - ручной ввод\n",
        "#1 - проценты\n",
        "#2 - суммы \n",
        "eps = 0.001\n",
        "for i in range (d9.shape[0]):\n",
        "  if d9['b_4'][i] >= 100:\n",
        "    if d9['amount'][i] == d9['values'][i][0] or d9['amount'][i] == d9['values'][i][1] or d9['amount'][i] == d9['values'][i][2] or d9['amount'][i] == d9['values'][i][3]:\n",
        "      type.append(2)\n",
        "    else:\n",
        "      type.append(0)\n",
        "  else:\n",
        "    if (d9['amount'][i]/d9['check_sum'][i] <= d9['values'][i][0]/100 + eps and d9['amount'][i]/d9['check_sum'][i] >= d9['values'][i][0]/100 - eps) or (d9['amount'][i]/d9['check_sum'][i] <= d9['values'][i][1]/100 + eps and d9['amount'][i]/d9['check_sum'][i] >= d9['values'][i][1]/100 - eps) or (d9['amount'][i]/d9['check_sum'][i] <= d9['values'][i][2]/100 + eps and d9['amount'][i]/d9['check_sum'][i] >= d9['values'][i][2]/100 - eps) or (d9['amount'][i]/d9['check_sum'][i] <= d9['values'][i][3]/100 + eps and d9['amount'][i]/d9['check_sum'][i] >= d9['values'][i][3]/100 - eps):\n",
        "      type.append(1)\n",
        "    else:\n",
        "      type.append(0)\n",
        "\n",
        "d9['type_of_selected_button'] = type\n",
        "\n",
        "eps = 0.001\n",
        "selected_button = []\n",
        "\n",
        "for i in range (d9 .shape[0]):\n",
        "  if d9 ['type_of_selected_button'][i] == 2:\n",
        "    if d9 ['amount'][i] == d9 ['values'][i][0]:\n",
        "      selected_button.append(d9 ['values'][i][0])\n",
        "    elif d9 ['amount'][i] == d9 ['values'][i][1]:\n",
        "      selected_button.append(d9 ['values'][i][1])\n",
        "    elif d9 ['amount'][i] == d9 ['values'][i][2]:\n",
        "      selected_button.append(d9 ['values'][i][2])\n",
        "    elif d9 ['amount'][i] == d9 ['values'][i][3]:\n",
        "      selected_button.append( d9 ['values'][i][3])\n",
        "  elif d9 ['type_of_selected_button'][i] == 1:\n",
        "      if (d9 ['amount'][i]/d9 ['check_sum'][i] <= d9 ['values'][i][0]/100 + eps) and (d9 ['amount'][i]/d9 ['check_sum'][i] >= d9 ['values'][i][0]/100 - eps):\n",
        "        selected_button.append(d9 ['values'][i][0])\n",
        "      elif (d9 ['amount'][i]/d9 ['check_sum'][i] <= d9 ['values'][i][1]/100 + eps and d9 ['amount'][i]/d9 ['check_sum'][i] >= d9 ['values'][i][1]/100 - eps):\n",
        "        selected_button.append(d9 ['values'][i][1])\n",
        "      elif (d9 ['amount'][i]/d9 ['check_sum'][i] <= d9 ['values'][i][2]/100 + eps and d9 ['amount'][i]/d9 ['check_sum'][i] >= d9 ['values'][i][2]/100 - eps):\n",
        "        selected_button.append(d9 ['values'][i][2])\n",
        "      elif (d9 ['amount'][i]/d9 ['check_sum'][i] <= d9 ['values'][i][3]/100 + eps and d9 ['amount'][i]/d9 ['check_sum'][i] >= d9 ['values'][i][3]/100 - eps):\n",
        "        selected_button.append(d9 ['values'][i][3])\n",
        "  else:\n",
        "    selected_button.append(d9 ['amount'][i])\n",
        "\n",
        "d9['selected_button'] = selected_button"
      ],
      "metadata": {
        "id": "H5OPT88XeU64"
      },
      "execution_count": null,
      "outputs": []
    },
    {
      "cell_type": "code",
      "source": [
        "d9.to_csv('diapason_9.csv')"
      ],
      "metadata": {
        "id": "D8R7wr66eZgg"
      },
      "execution_count": null,
      "outputs": []
    },
    {
      "cell_type": "markdown",
      "source": [
        "Диапазон 10: от 14900"
      ],
      "metadata": {
        "id": "8MM6lN6oe6zQ"
      }
    },
    {
      "cell_type": "code",
      "source": [
        "d10 = df[(df['check_sum'] > 14900)].copy().reset_index()\n",
        "\n",
        "b_1 = []\n",
        "b_2 = []\n",
        "b_3 = []\n",
        "b_4 = []\n",
        "\n",
        "for i in range(len(d10)):\n",
        "  b_1.append(d10['values'][i][0])\n",
        "  b_2.append(d10['values'][i][1])\n",
        "  b_3.append(d10['values'][i][2])\n",
        "  b_4.append(d10['values'][i][3])\n",
        "\n",
        "d10['b_1'] = b_1\n",
        "d10['b_2'] = b_2\n",
        "d10['b_3'] = b_3\n",
        "d10['b_4'] = b_4\n",
        "\n",
        "type = []\n",
        "#0 - ручной ввод\n",
        "#1 - проценты\n",
        "#2 - суммы \n",
        "eps = 0.001\n",
        "for i in range (d10.shape[0]):\n",
        "  if d10['b_4'][i] >= 100:\n",
        "    if d10['amount'][i] == d10['values'][i][0] or d10['amount'][i] == d10['values'][i][1] or d10['amount'][i] == d10['values'][i][2] or d10['amount'][i] == d10['values'][i][3]:\n",
        "      type.append(2)\n",
        "    else:\n",
        "      type.append(0)\n",
        "  else:\n",
        "    if (d10['amount'][i]/d10['check_sum'][i] <= d10['values'][i][0]/100 + eps and d10['amount'][i]/d10['check_sum'][i] >= d10['values'][i][0]/100 - eps) or (d10['amount'][i]/d10['check_sum'][i] <= d10['values'][i][1]/100 + eps and d10['amount'][i]/d10['check_sum'][i] >= d10['values'][i][1]/100 - eps) or (d10['amount'][i]/d10['check_sum'][i] <= d10['values'][i][2]/100 + eps and d10['amount'][i]/d10['check_sum'][i] >= d10['values'][i][2]/100 - eps) or (d10['amount'][i]/d10['check_sum'][i] <= d10['values'][i][3]/100 + eps and d10['amount'][i]/d10['check_sum'][i] >= d10['values'][i][3]/100 - eps):\n",
        "      type.append(1)\n",
        "    else:\n",
        "      type.append(0)\n",
        "\n",
        "d10['type_of_selected_button'] = type\n",
        "\n",
        "eps = 0.001\n",
        "selected_button = []\n",
        "\n",
        "for i in range (d10 .shape[0]):\n",
        "  if d10 ['type_of_selected_button'][i] == 2:\n",
        "    if d10 ['amount'][i] == d10 ['values'][i][0]:\n",
        "      selected_button.append(d10 ['values'][i][0])\n",
        "    elif d10 ['amount'][i] == d10 ['values'][i][1]:\n",
        "      selected_button.append(d10 ['values'][i][1])\n",
        "    elif d10 ['amount'][i] == d10 ['values'][i][2]:\n",
        "      selected_button.append(d10 ['values'][i][2])\n",
        "    elif d10 ['amount'][i] == d10 ['values'][i][3]:\n",
        "      selected_button.append( d10 ['values'][i][3])\n",
        "  elif d10 ['type_of_selected_button'][i] == 1:\n",
        "      if (d10 ['amount'][i]/d10 ['check_sum'][i] <= d10 ['values'][i][0]/100 + eps) and (d10 ['amount'][i]/d10 ['check_sum'][i] >= d10 ['values'][i][0]/100 - eps):\n",
        "        selected_button.append(d10 ['values'][i][0])\n",
        "      elif (d10 ['amount'][i]/d10 ['check_sum'][i] <= d10 ['values'][i][1]/100 + eps and d10 ['amount'][i]/d10 ['check_sum'][i] >= d10 ['values'][i][1]/100 - eps):\n",
        "        selected_button.append(d10 ['values'][i][1])\n",
        "      elif (d10 ['amount'][i]/d10 ['check_sum'][i] <= d10 ['values'][i][2]/100 + eps and d10 ['amount'][i]/d10 ['check_sum'][i] >= d10 ['values'][i][2]/100 - eps):\n",
        "        selected_button.append(d10 ['values'][i][2])\n",
        "      elif (d10 ['amount'][i]/d10 ['check_sum'][i] <= d10 ['values'][i][3]/100 + eps and d10 ['amount'][i]/d10 ['check_sum'][i] >= d10 ['values'][i][3]/100 - eps):\n",
        "        selected_button.append(d10 ['values'][i][3])\n",
        "  else:\n",
        "    selected_button.append(d10 ['amount'][i])\n",
        "\n",
        "d10['selected_button'] = selected_button"
      ],
      "metadata": {
        "id": "O6_2mUZEe5LJ"
      },
      "execution_count": null,
      "outputs": []
    },
    {
      "cell_type": "code",
      "source": [
        "d10.to_csv('diapason_10.csv')"
      ],
      "metadata": {
        "id": "6fga_cD8fX-w"
      },
      "execution_count": null,
      "outputs": []
    }
  ],
  "metadata": {
    "colab": {
      "provenance": []
    },
    "gpuClass": "standard",
    "kernelspec": {
      "display_name": "Python 3",
      "name": "python3"
    },
    "language_info": {
      "name": "python"
    }
  },
  "nbformat": 4,
  "nbformat_minor": 0
}